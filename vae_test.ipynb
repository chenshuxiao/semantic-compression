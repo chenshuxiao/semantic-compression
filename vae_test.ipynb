{
 "cells": [
  {
   "cell_type": "code",
   "execution_count": 1,
   "metadata": {},
   "outputs": [],
   "source": [
    "from scipy.io import loadmat\n",
    "import torch\n",
    "from matplotlib import pyplot as plt\n",
    "from vae import VanillaVAE\n",
    "import torchvision\n",
    "from tqdm import tqdm\n",
    "import os\n",
    "import time\n",
    "from torchvision.utils import save_image"
   ]
  },
  {
   "cell_type": "code",
   "execution_count": 2,
   "metadata": {},
   "outputs": [
    {
     "data": {
      "text/plain": [
       "VanillaVAE(\n",
       "  (encoder): Sequential(\n",
       "    (0): Sequential(\n",
       "      (0): Conv2d(1, 32, kernel_size=(3, 3), stride=(2, 2), padding=(1, 1))\n",
       "      (1): BatchNorm2d(32, eps=1e-05, momentum=0.1, affine=True, track_running_stats=True)\n",
       "      (2): LeakyReLU(negative_slope=0.01)\n",
       "    )\n",
       "    (1): Sequential(\n",
       "      (0): Conv2d(32, 64, kernel_size=(3, 3), stride=(2, 2), padding=(1, 1))\n",
       "      (1): BatchNorm2d(64, eps=1e-05, momentum=0.1, affine=True, track_running_stats=True)\n",
       "      (2): LeakyReLU(negative_slope=0.01)\n",
       "    )\n",
       "  )\n",
       "  (fc_mu): Linear(in_features=4096, out_features=64, bias=True)\n",
       "  (fc_var): Linear(in_features=4096, out_features=64, bias=True)\n",
       "  (decoder_input): Linear(in_features=64, out_features=4096, bias=True)\n",
       "  (decoder): Sequential(\n",
       "    (0): Sequential(\n",
       "      (0): ConvTranspose2d(64, 32, kernel_size=(3, 3), stride=(2, 2), padding=(1, 1), output_padding=(1, 1))\n",
       "      (1): BatchNorm2d(32, eps=1e-05, momentum=0.1, affine=True, track_running_stats=True)\n",
       "      (2): LeakyReLU(negative_slope=0.01)\n",
       "    )\n",
       "  )\n",
       "  (final_layer): Sequential(\n",
       "    (0): ConvTranspose2d(32, 32, kernel_size=(3, 3), stride=(2, 2), padding=(1, 1), output_padding=(1, 1))\n",
       "    (1): BatchNorm2d(32, eps=1e-05, momentum=0.1, affine=True, track_running_stats=True)\n",
       "    (2): LeakyReLU(negative_slope=0.01)\n",
       "    (3): Conv2d(32, 1, kernel_size=(3, 3), stride=(1, 1), padding=(1, 1))\n",
       "    (4): Tanh()\n",
       "  )\n",
       ")"
      ]
     },
     "execution_count": 2,
     "metadata": {},
     "output_type": "execute_result"
    }
   ],
   "source": [
    "z_size = 64\n",
    "in_channels = 1\n",
    "vae = VanillaVAE(in_channels=in_channels, latent_dim=z_size, res=32, layer_count=2)\n",
    "vae.cuda()\n",
    "vae.train()"
   ]
  },
  {
   "cell_type": "code",
   "execution_count": 3,
   "metadata": {},
   "outputs": [],
   "source": [
    "slen = 32\n",
    "\n",
    "batch_size_train = 64\n",
    "batch_size_test = 256\n",
    "train_loader = torch.utils.data.DataLoader(\n",
    "  torchvision.datasets.MNIST('data/', train=True, download=True,\n",
    "                             transform=torchvision.transforms.Compose([\n",
    "                               torchvision.transforms.Resize((slen,slen)),\n",
    "                               torchvision.transforms.ToTensor(),\n",
    "                               torchvision.transforms.Normalize(\n",
    "                                 (0.1307,), (0.3081,))\n",
    "                             ])),\n",
    "  batch_size=batch_size_train, shuffle=True)\n",
    "\n",
    "test_loader = torch.utils.data.DataLoader(\n",
    "  torchvision.datasets.MNIST('data/', train=False, download=True,\n",
    "                             transform=torchvision.transforms.Compose([\n",
    "                               torchvision.transforms.Resize((slen,slen)),\n",
    "                               torchvision.transforms.ToTensor(),\n",
    "                               torchvision.transforms.Normalize(\n",
    "                                 (0.1307,), (0.3081,))\n",
    "                             ])),\n",
    "  batch_size=batch_size_test, shuffle=True)"
   ]
  },
  {
   "cell_type": "code",
   "execution_count": 4,
   "metadata": {},
   "outputs": [
    {
     "name": "stdout",
     "output_type": "stream",
     "text": [
      "938 40\n"
     ]
    }
   ],
   "source": [
    "print (len (train_loader), len (test_loader))"
   ]
  },
  {
   "cell_type": "code",
   "execution_count": 5,
   "metadata": {},
   "outputs": [
    {
     "name": "stdout",
     "output_type": "stream",
     "text": [
      "torch.Size([256, 1, 32, 32])\n",
      "torch.Size([256])\n",
      "torch.Size([1, 32, 32])\n"
     ]
    },
    {
     "data": {
      "image/png": "[encoded data removed]",
      "text/plain": [
       "<Figure size 432x288 with 2 Axes>"
      ]
     },
     "metadata": {
      "needs_background": "light"
     },
     "output_type": "display_data"
    },
    {
     "name": "stdout",
     "output_type": "stream",
     "text": [
      "tensor(0.0395)\n"
     ]
    }
   ],
   "source": [
    "examples = list(test_loader)\n",
    "print (examples[0][0].shape)\n",
    "print (examples[0][1].shape)\n",
    "print (examples[0][0][0].shape)\n",
    "\n",
    "plt.imshow (examples[0][0][0].view(slen,slen))\n",
    "plt.colorbar()\n",
    "plt.show()\n",
    "print (torch.mean(examples[0][0][0]))"
   ]
  },
  {
   "cell_type": "code",
   "execution_count": 6,
   "metadata": {},
   "outputs": [],
   "source": [
    "results = vae.encoder(examples[0][0][0].view(1,1,slen,slen).cuda())"
   ]
  },
  {
   "cell_type": "code",
   "execution_count": 7,
   "metadata": {},
   "outputs": [
    {
     "data": {
      "text/plain": [
       "torch.Size([64, 8, 8])"
      ]
     },
     "execution_count": 7,
     "metadata": {},
     "output_type": "execute_result"
    }
   ],
   "source": [
    "results[0].shape"
   ]
  },
  {
   "cell_type": "code",
   "execution_count": 8,
   "metadata": {},
   "outputs": [
    {
     "name": "stdout",
     "output_type": "stream",
     "text": [
      "test_mnist_12-02-2020_04-16-03\n"
     ]
    }
   ],
   "source": [
    "name='test'+'_mnist_'+time.strftime(\"%m-%d-%Y_%H-%M-%S\")\n",
    "print (name)"
   ]
  },
  {
   "cell_type": "code",
   "execution_count": null,
   "metadata": {},
   "outputs": [
    {
     "name": "stderr",
     "output_type": "stream",
     "text": [
      "  2%|▏         | 1/50 [00:15<12:38, 15.48s/it]"
     ]
    },
    {
     "name": "stdout",
     "output_type": "stream",
     "text": [
      "\n",
      "[1/50] recon loss: 0.327086901, KL loss: 0.055862329\n"
     ]
    },
    {
     "name": "stderr",
     "output_type": "stream",
     "text": [
      "\r",
      "  4%|▍         | 2/50 [00:30<12:22, 15.46s/it]"
     ]
    },
    {
     "name": "stdout",
     "output_type": "stream",
     "text": [
      "\n",
      "[2/50] recon loss: 0.296351105, KL loss: 0.048524085\n"
     ]
    },
    {
     "name": "stderr",
     "output_type": "stream",
     "text": [
      "\r",
      "  6%|▌         | 3/50 [00:46<12:07, 15.47s/it]"
     ]
    },
    {
     "name": "stdout",
     "output_type": "stream",
     "text": [
      "\n",
      "[3/50] recon loss: 0.292746197, KL loss: 0.046400644\n"
     ]
    },
    {
     "name": "stderr",
     "output_type": "stream",
     "text": [
      "\r",
      "  8%|▊         | 4/50 [01:01<11:52, 15.48s/it]"
     ]
    },
    {
     "name": "stdout",
     "output_type": "stream",
     "text": [
      "\n",
      "[4/50] recon loss: 0.290824422, KL loss: 0.045411188\n"
     ]
    },
    {
     "name": "stderr",
     "output_type": "stream",
     "text": [
      "\r",
      " 10%|█         | 5/50 [01:17<11:36, 15.48s/it]"
     ]
    },
    {
     "name": "stdout",
     "output_type": "stream",
     "text": [
      "\n",
      "[5/50] recon loss: 0.289694829, KL loss: 0.044696115\n"
     ]
    },
    {
     "name": "stderr",
     "output_type": "stream",
     "text": [
      "\r",
      " 12%|█▏        | 6/50 [01:32<11:21, 15.48s/it]"
     ]
    },
    {
     "name": "stdout",
     "output_type": "stream",
     "text": [
      "\n",
      "[6/50] recon loss: 0.288748044, KL loss: 0.044155345\n"
     ]
    },
    {
     "name": "stderr",
     "output_type": "stream",
     "text": [
      "\r",
      " 14%|█▍        | 7/50 [01:48<11:06, 15.49s/it]"
     ]
    },
    {
     "name": "stdout",
     "output_type": "stream",
     "text": [
      "\n",
      "[7/50] recon loss: 0.288225808, KL loss: 0.043671022\n"
     ]
    },
    {
     "name": "stderr",
     "output_type": "stream",
     "text": [
      "\r",
      " 16%|█▌        | 8/50 [02:04<10:52, 15.54s/it]"
     ]
    },
    {
     "name": "stdout",
     "output_type": "stream",
     "text": [
      "\n",
      "[8/50] recon loss: 0.287628928, KL loss: 0.043337664\n"
     ]
    }
   ],
   "source": [
    "name='test_mnist_'+time.strftime(\"%m-%d-%Y_%H-%M-%S\")\n",
    "os.makedirs(name, exist_ok=True)\n",
    "recon_dir = os.path.join (name,'results_recon')\n",
    "os.makedirs(recon_dir, exist_ok=True)\n",
    "gen_dir = os.path.join (name,'results_gen')\n",
    "os.makedirs(gen_dir, exist_ok=True)\n",
    "\n",
    "lr = 0.0005\n",
    "vae_optimizer = torch.optim.Adam(vae.parameters(), lr=lr, betas=(0.5, 0.999), weight_decay=1e-5)\n",
    "train_epoch = 50\n",
    "\n",
    "re_loss_arr = []\n",
    "kl_loss_arr = []\n",
    "\n",
    "# for decode testing, batch size of 64\n",
    "sample1 = torch.randn(64, z_size).view(-1, z_size).cuda()\n",
    "\n",
    "for epoch in tqdm(range(train_epoch)):\n",
    "    \n",
    "    re_loss = 0\n",
    "    kl_loss = 0\n",
    "    \n",
    "    for x in train_loader:\n",
    "        x = x[0].cuda()\n",
    "        vae.zero_grad()\n",
    "#         print (x.shape)\n",
    "        recon, mu, logvar = vae(x)\n",
    "#         print (recon.shape)\n",
    "        loss = vae.loss_function(recon, x, mu, logvar, kld_weight=0.1)\n",
    "        loss_re, loss_kl = loss['reconstruction_loss'], loss['KLD']\n",
    "        (loss_re + loss_kl).backward()\n",
    "        vae_optimizer.step()\n",
    "        re_loss += loss_re.detach().item()\n",
    "        kl_loss += loss_kl.detach().item()\n",
    "\n",
    "    re_loss /= len(train_loader)\n",
    "    kl_loss /= len(train_loader)\n",
    "    print('\\n[%d/%d] recon loss: %.9f, KL loss: %.9f' % (\n",
    "        (epoch + 1), train_epoch, re_loss, kl_loss))\n",
    "    re_loss_arr.append(re_loss)\n",
    "    kl_loss_arr.append(kl_loss)\n",
    "    if epoch % 2 == 0:\n",
    "        with torch.no_grad():\n",
    "            vae.eval()\n",
    "            x_rec, _, _ = vae(x)\n",
    "            resultsample = torch.cat([x, x_rec]) * 0.3081 + 0.1307\n",
    "            resultsample = resultsample.cpu()\n",
    "            save_image(resultsample.view(-1, in_channels, slen*2, slen),\n",
    "                       recon_dir + '/' + str(epoch) + '.png')\n",
    "            x_rec = vae.decode(sample1)\n",
    "            resultsample = x_rec * 0.3081 + 0.1307\n",
    "            resultsample = resultsample.cpu()\n",
    "            save_image(resultsample.view(-1, in_channels, slen, slen),\n",
    "                       gen_dir + '/' + str(epoch) + '.png')\n",
    "        vae.train()\n",
    "        \n",
    "    # checkpoint\n",
    "    torch.save(vae.state_dict(), name + \"/VAEmodel.pkl\")\n",
    "    \n",
    "print(\"Training finish!... save training results\")\n",
    "torch.save(vae.state_dict(), \"VAEmodel.pkl\")\n",
    "        "
   ]
  },
  {
   "cell_type": "code",
   "execution_count": null,
   "metadata": {},
   "outputs": [],
   "source": [
    "sample1.shape"
   ]
  },
  {
   "cell_type": "code",
   "execution_count": null,
   "metadata": {},
   "outputs": [],
   "source": []
  }
 ],
 "metadata": {
  "kernelspec": {
   "display_name": "Python (isonet)",
   "language": "python",
   "name": "isonet"
  },
  "language_info": {
   "codemirror_mode": {
    "name": "ipython",
    "version": 3
   },
   "file_extension": ".py",
   "mimetype": "text/x-python",
   "name": "python",
   "nbconvert_exporter": "python",
   "pygments_lexer": "ipython3",
   "version": "3.6.12"
  }
 },
 "nbformat": 4,
 "nbformat_minor": 4
}

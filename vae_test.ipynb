{
 "cells": [
  {
   "cell_type": "code",
   "execution_count": 1,
   "metadata": {},
   "outputs": [],
   "source": [
    "from scipy.io import loadmat\n",
    "import torch\n",
    "from matplotlib import pyplot as plt\n",
    "from vae import VanillaVAE\n",
    "from vae import BetaSchedulerCyclic\n",
    "from vae import BetaSchedulerMono\n",
    "import torchvision\n",
    "from tqdm import tqdm\n",
    "import os\n",
    "import time\n",
    "from torchvision.utils import save_image\n",
    "from itertools import islice\n"
   ]
  },
  {
   "cell_type": "code",
   "execution_count": 2,
   "metadata": {},
   "outputs": [
    {
     "data": {
      "text/plain": [
       "VanillaVAE(\n",
       "  (encoder): Sequential(\n",
       "    (0): Sequential(\n",
       "      (0): Conv2d(1, 64, kernel_size=(3, 3), stride=(2, 2), padding=(1, 1))\n",
       "      (1): BatchNorm2d(64, eps=1e-05, momentum=0.1, affine=True, track_running_stats=True)\n",
       "      (2): LeakyReLU(negative_slope=0.01)\n",
       "    )\n",
       "    (1): Sequential(\n",
       "      (0): Conv2d(64, 128, kernel_size=(3, 3), stride=(2, 2), padding=(1, 1))\n",
       "      (1): BatchNorm2d(128, eps=1e-05, momentum=0.1, affine=True, track_running_stats=True)\n",
       "      (2): LeakyReLU(negative_slope=0.01)\n",
       "    )\n",
       "  )\n",
       "  (fc_mu): Linear(in_features=8192, out_features=20, bias=True)\n",
       "  (fc_var): Linear(in_features=8192, out_features=20, bias=True)\n",
       "  (decoder_input): Linear(in_features=20, out_features=8192, bias=True)\n",
       "  (decoder): Sequential(\n",
       "    (0): Sequential(\n",
       "      (0): ConvTranspose2d(128, 64, kernel_size=(3, 3), stride=(2, 2), padding=(1, 1), output_padding=(1, 1))\n",
       "      (1): BatchNorm2d(64, eps=1e-05, momentum=0.1, affine=True, track_running_stats=True)\n",
       "      (2): LeakyReLU(negative_slope=0.01)\n",
       "    )\n",
       "  )\n",
       "  (final_layer): Sequential(\n",
       "    (0): ConvTranspose2d(64, 64, kernel_size=(3, 3), stride=(2, 2), padding=(1, 1), output_padding=(1, 1))\n",
       "    (1): BatchNorm2d(64, eps=1e-05, momentum=0.1, affine=True, track_running_stats=True)\n",
       "    (2): LeakyReLU(negative_slope=0.01)\n",
       "    (3): Conv2d(64, 1, kernel_size=(3, 3), stride=(1, 1), padding=(1, 1))\n",
       "    (4): Tanh()\n",
       "  )\n",
       ")"
      ]
     },
     "execution_count": 2,
     "metadata": {},
     "output_type": "execute_result"
    }
   ],
   "source": [
    "z_size = 20\n",
    "in_channels = 1\n",
    "vae = VanillaVAE(in_channels=in_channels, latent_dim=z_size, res=32, layer_count=2, layer_mult=64)\n",
    "vae.cuda()\n",
    "vae.train()"
   ]
  },
  {
   "cell_type": "code",
   "execution_count": 3,
   "metadata": {},
   "outputs": [],
   "source": [
    "slen = 32\n",
    "\n",
    "batch_size_train = 64\n",
    "batch_size_test = 256\n",
    "train_loader = torch.utils.data.DataLoader(\n",
    "  torchvision.datasets.MNIST('data/', train=True, download=True,\n",
    "                             transform=torchvision.transforms.Compose([\n",
    "                               torchvision.transforms.Resize((slen,slen)),\n",
    "                               torchvision.transforms.ToTensor(),\n",
    "                               torchvision.transforms.Normalize(\n",
    "                                 (0.1307,), (0.3081,))\n",
    "                             ])),\n",
    "  batch_size=batch_size_train, shuffle=True)\n",
    "\n",
    "test_loader = torch.utils.data.DataLoader(\n",
    "  torchvision.datasets.MNIST('data/', train=False, download=True,\n",
    "                             transform=torchvision.transforms.Compose([\n",
    "                               torchvision.transforms.Resize((slen,slen)),\n",
    "                               torchvision.transforms.ToTensor(),\n",
    "                               torchvision.transforms.Normalize(\n",
    "                                 (0.1307,), (0.3081,))\n",
    "                             ])),\n",
    "  batch_size=batch_size_test, shuffle=True)"
   ]
  },
  {
   "cell_type": "code",
   "execution_count": 4,
   "metadata": {},
   "outputs": [
    {
     "name": "stdout",
     "output_type": "stream",
     "text": [
      "938 40\n"
     ]
    }
   ],
   "source": [
    "print (len (train_loader), len (test_loader))"
   ]
  },
  {
   "cell_type": "code",
   "execution_count": 5,
   "metadata": {},
   "outputs": [
    {
     "name": "stdout",
     "output_type": "stream",
     "text": [
      "torch.Size([256, 1, 32, 32])\n",
      "torch.Size([256])\n",
      "torch.Size([1, 32, 32])\n"
     ]
    }
   ],
   "source": [
    "examples = list(test_loader)\n",
    "print (examples[0][0].shape)\n",
    "print (examples[0][1].shape)\n",
    "print (examples[0][0][0].shape)\n",
    "\n",
    "# plt.imshow (examples[0][0][0].view(slen,slen))\n",
    "# plt.colorbar()\n",
    "# plt.show()\n",
    "# print (torch.mean(examples[0][0][0]))"
   ]
  },
  {
   "cell_type": "code",
   "execution_count": 6,
   "metadata": {},
   "outputs": [],
   "source": [
    "results = vae.encoder(examples[0][0][0].view(1,1,slen,slen).cuda())"
   ]
  },
  {
   "cell_type": "code",
   "execution_count": 7,
   "metadata": {},
   "outputs": [
    {
     "data": {
      "text/plain": [
       "torch.Size([128, 8, 8])"
      ]
     },
     "execution_count": 7,
     "metadata": {},
     "output_type": "execute_result"
    }
   ],
   "source": [
    "results[0].shape"
   ]
  },
  {
   "cell_type": "code",
   "execution_count": 8,
   "metadata": {},
   "outputs": [
    {
     "name": "stdout",
     "output_type": "stream",
     "text": [
      "test_mnist_12-04-2020_03-04-42\n"
     ]
    }
   ],
   "source": [
    "name='test'+'_mnist_'+time.strftime(\"%m-%d-%Y_%H-%M-%S\")\n",
    "print (name)"
   ]
  },
  {
   "cell_type": "code",
   "execution_count": 9,
   "metadata": {},
   "outputs": [],
   "source": [
    "a = BetaSchedulerCyclic()"
   ]
  },
  {
   "cell_type": "code",
   "execution_count": 10,
   "metadata": {},
   "outputs": [
    {
     "data": {
      "text/plain": [
       "0.0"
      ]
     },
     "execution_count": 10,
     "metadata": {},
     "output_type": "execute_result"
    }
   ],
   "source": [
    "next(a)"
   ]
  },
  {
   "cell_type": "code",
   "execution_count": 11,
   "metadata": {},
   "outputs": [
    {
     "data": {
      "image/png": "[encoded data removed]",
      "text/plain": [
       "<Figure size 432x288 with 1 Axes>"
      ]
     },
     "metadata": {
      "needs_background": "light"
     },
     "output_type": "display_data"
    }
   ],
   "source": [
    "a = BetaSchedulerCyclic()\n",
    "\n",
    "x = list(islice(a, 0, 4000))\n",
    "plt.plot(x)\n",
    "plt.show()"
   ]
  },
  {
   "cell_type": "code",
   "execution_count": 14,
   "metadata": {},
   "outputs": [
    {
     "data": {
      "text/plain": [
       "1.0000000000000007"
      ]
     },
     "execution_count": 14,
     "metadata": {},
     "output_type": "execute_result"
    }
   ],
   "source": [
    "x[999]"
   ]
  },
  {
   "cell_type": "code",
   "execution_count": 20,
   "metadata": {},
   "outputs": [
    {
     "name": "stderr",
     "output_type": "stream",
     "text": [
      "  2%|▏         | 1/50 [00:19<15:40, 19.20s/it]"
     ]
    },
    {
     "name": "stdout",
     "output_type": "stream",
     "text": [
      "\n",
      "[1/50] recon loss: 0.347272961, KL loss: 0.064410582\n"
     ]
    },
    {
     "name": "stderr",
     "output_type": "stream",
     "text": [
      "\r",
      "  4%|▍         | 2/50 [00:38<15:19, 19.16s/it]"
     ]
    },
    {
     "name": "stdout",
     "output_type": "stream",
     "text": [
      "\n",
      "[2/50] recon loss: 0.339975725, KL loss: 0.066747763\n"
     ]
    },
    {
     "name": "stderr",
     "output_type": "stream",
     "text": [
      "\r",
      "  6%|▌         | 3/50 [00:57<14:59, 19.14s/it]"
     ]
    },
    {
     "name": "stdout",
     "output_type": "stream",
     "text": [
      "\n",
      "[3/50] recon loss: 0.337528661, KL loss: 0.067636181\n"
     ]
    },
    {
     "name": "stderr",
     "output_type": "stream",
     "text": [
      "\r",
      "  8%|▊         | 4/50 [01:16<14:38, 19.09s/it]"
     ]
    },
    {
     "name": "stdout",
     "output_type": "stream",
     "text": [
      "\n",
      "[4/50] recon loss: 0.336456797, KL loss: 0.068148709\n"
     ]
    },
    {
     "name": "stderr",
     "output_type": "stream",
     "text": [
      "\r",
      " 10%|█         | 5/50 [01:35<14:17, 19.05s/it]"
     ]
    },
    {
     "name": "stdout",
     "output_type": "stream",
     "text": [
      "\n",
      "[5/50] recon loss: 0.335236727, KL loss: 0.068458082\n"
     ]
    },
    {
     "name": "stderr",
     "output_type": "stream",
     "text": [
      "\r",
      " 12%|█▏        | 6/50 [01:54<13:57, 19.04s/it]"
     ]
    },
    {
     "name": "stdout",
     "output_type": "stream",
     "text": [
      "\n",
      "[6/50] recon loss: 0.334383281, KL loss: 0.068690153\n"
     ]
    },
    {
     "name": "stderr",
     "output_type": "stream",
     "text": [
      "\r",
      " 14%|█▍        | 7/50 [02:13<13:38, 19.04s/it]"
     ]
    },
    {
     "name": "stdout",
     "output_type": "stream",
     "text": [
      "\n",
      "[7/50] recon loss: 0.333935552, KL loss: 0.068865423\n"
     ]
    },
    {
     "name": "stderr",
     "output_type": "stream",
     "text": [
      "\r",
      " 16%|█▌        | 8/50 [02:32<13:19, 19.04s/it]"
     ]
    },
    {
     "name": "stdout",
     "output_type": "stream",
     "text": [
      "\n",
      "[8/50] recon loss: 0.333413041, KL loss: 0.068897342\n"
     ]
    },
    {
     "name": "stderr",
     "output_type": "stream",
     "text": [
      "\r",
      " 18%|█▊        | 9/50 [02:51<13:01, 19.06s/it]"
     ]
    },
    {
     "name": "stdout",
     "output_type": "stream",
     "text": [
      "\n",
      "[9/50] recon loss: 0.333233986, KL loss: 0.069227624\n"
     ]
    },
    {
     "name": "stderr",
     "output_type": "stream",
     "text": [
      "\r",
      " 20%|██        | 10/50 [03:10<12:43, 19.10s/it]"
     ]
    },
    {
     "name": "stdout",
     "output_type": "stream",
     "text": [
      "\n",
      "[10/50] recon loss: 0.333371849, KL loss: 0.069477389\n"
     ]
    },
    {
     "name": "stderr",
     "output_type": "stream",
     "text": [
      "\r",
      " 22%|██▏       | 11/50 [03:29<12:24, 19.08s/it]"
     ]
    },
    {
     "name": "stdout",
     "output_type": "stream",
     "text": [
      "\n",
      "[11/50] recon loss: 0.333632488, KL loss: 0.070031875\n"
     ]
    },
    {
     "name": "stderr",
     "output_type": "stream",
     "text": [
      "\r",
      " 24%|██▍       | 12/50 [03:48<12:04, 19.06s/it]"
     ]
    },
    {
     "name": "stdout",
     "output_type": "stream",
     "text": [
      "\n",
      "[12/50] recon loss: 0.333809565, KL loss: 0.070604240\n"
     ]
    },
    {
     "name": "stderr",
     "output_type": "stream",
     "text": [
      "\r",
      " 26%|██▌       | 13/50 [04:07<11:44, 19.05s/it]"
     ]
    },
    {
     "name": "stdout",
     "output_type": "stream",
     "text": [
      "\n",
      "[13/50] recon loss: 0.334014587, KL loss: 0.071268696\n"
     ]
    },
    {
     "name": "stderr",
     "output_type": "stream",
     "text": [
      "\r",
      " 28%|██▊       | 14/50 [04:26<11:25, 19.05s/it]"
     ]
    },
    {
     "name": "stdout",
     "output_type": "stream",
     "text": [
      "\n",
      "[14/50] recon loss: 0.334214857, KL loss: 0.071925986\n"
     ]
    },
    {
     "name": "stderr",
     "output_type": "stream",
     "text": [
      "\r",
      " 30%|███       | 15/50 [04:45<11:07, 19.06s/it]"
     ]
    },
    {
     "name": "stdout",
     "output_type": "stream",
     "text": [
      "\n",
      "[15/50] recon loss: 0.334504481, KL loss: 0.072937590\n"
     ]
    },
    {
     "name": "stderr",
     "output_type": "stream",
     "text": [
      "\r",
      " 32%|███▏      | 16/50 [05:04<10:47, 19.06s/it]"
     ]
    },
    {
     "name": "stdout",
     "output_type": "stream",
     "text": [
      "\n",
      "[16/50] recon loss: 0.333867803, KL loss: 0.073739567\n"
     ]
    },
    {
     "name": "stderr",
     "output_type": "stream",
     "text": [
      "\r",
      " 34%|███▍      | 17/50 [05:24<10:29, 19.06s/it]"
     ]
    },
    {
     "name": "stdout",
     "output_type": "stream",
     "text": [
      "\n",
      "[17/50] recon loss: 0.331081839, KL loss: 0.069495545\n"
     ]
    },
    {
     "name": "stderr",
     "output_type": "stream",
     "text": [
      "\r",
      " 36%|███▌      | 18/50 [05:43<10:10, 19.07s/it]"
     ]
    },
    {
     "name": "stdout",
     "output_type": "stream",
     "text": [
      "\n",
      "[18/50] recon loss: 0.330855158, KL loss: 0.069576296\n"
     ]
    },
    {
     "name": "stderr",
     "output_type": "stream",
     "text": [
      "\r",
      " 38%|███▊      | 19/50 [06:02<09:51, 19.07s/it]"
     ]
    },
    {
     "name": "stdout",
     "output_type": "stream",
     "text": [
      "\n",
      "[19/50] recon loss: 0.330885841, KL loss: 0.069487767\n"
     ]
    },
    {
     "name": "stderr",
     "output_type": "stream",
     "text": [
      "\r",
      " 40%|████      | 20/50 [06:21<09:32, 19.09s/it]"
     ]
    },
    {
     "name": "stdout",
     "output_type": "stream",
     "text": [
      "\n",
      "[20/50] recon loss: 0.330612915, KL loss: 0.069457117\n"
     ]
    },
    {
     "name": "stderr",
     "output_type": "stream",
     "text": [
      "\r",
      " 42%|████▏     | 21/50 [06:40<09:13, 19.10s/it]"
     ]
    },
    {
     "name": "stdout",
     "output_type": "stream",
     "text": [
      "\n",
      "[21/50] recon loss: 0.330521840, KL loss: 0.069516058\n"
     ]
    },
    {
     "name": "stderr",
     "output_type": "stream",
     "text": [
      "\r",
      " 44%|████▍     | 22/50 [06:59<08:54, 19.10s/it]"
     ]
    },
    {
     "name": "stdout",
     "output_type": "stream",
     "text": [
      "\n",
      "[22/50] recon loss: 0.330507280, KL loss: 0.069581194\n"
     ]
    },
    {
     "name": "stderr",
     "output_type": "stream",
     "text": [
      "\r",
      " 46%|████▌     | 23/50 [07:18<08:36, 19.12s/it]"
     ]
    },
    {
     "name": "stdout",
     "output_type": "stream",
     "text": [
      "\n",
      "[23/50] recon loss: 0.330280078, KL loss: 0.069469945\n"
     ]
    },
    {
     "name": "stderr",
     "output_type": "stream",
     "text": [
      "\r",
      " 48%|████▊     | 24/50 [07:37<08:18, 19.16s/it]"
     ]
    },
    {
     "name": "stdout",
     "output_type": "stream",
     "text": [
      "\n",
      "[24/50] recon loss: 0.330146532, KL loss: 0.069514856\n"
     ]
    },
    {
     "name": "stderr",
     "output_type": "stream",
     "text": [
      "\r",
      " 50%|█████     | 25/50 [07:56<07:57, 19.11s/it]"
     ]
    },
    {
     "name": "stdout",
     "output_type": "stream",
     "text": [
      "\n",
      "[25/50] recon loss: 0.330437376, KL loss: 0.069699426\n"
     ]
    },
    {
     "name": "stderr",
     "output_type": "stream",
     "text": [
      "\r",
      " 52%|█████▏    | 26/50 [08:16<07:38, 19.11s/it]"
     ]
    },
    {
     "name": "stdout",
     "output_type": "stream",
     "text": [
      "\n",
      "[26/50] recon loss: 0.330871437, KL loss: 0.070080785\n"
     ]
    },
    {
     "name": "stderr",
     "output_type": "stream",
     "text": [
      "\r",
      " 54%|█████▍    | 27/50 [08:35<07:19, 19.09s/it]"
     ]
    },
    {
     "name": "stdout",
     "output_type": "stream",
     "text": [
      "\n",
      "[27/50] recon loss: 0.331338074, KL loss: 0.070398421\n"
     ]
    },
    {
     "name": "stderr",
     "output_type": "stream",
     "text": [
      "\r",
      " 56%|█████▌    | 28/50 [08:54<07:01, 19.15s/it]"
     ]
    },
    {
     "name": "stdout",
     "output_type": "stream",
     "text": [
      "\n",
      "[28/50] recon loss: 0.331655885, KL loss: 0.070985985\n"
     ]
    },
    {
     "name": "stderr",
     "output_type": "stream",
     "text": [
      " 56%|█████▌    | 28/50 [09:05<07:08, 19.49s/it]\n"
     ]
    },
    {
     "ename": "KeyboardInterrupt",
     "evalue": "",
     "output_type": "error",
     "traceback": [
      "\u001b[0;31m---------------------------------------------------------------------------\u001b[0m",
      "\u001b[0;31mKeyboardInterrupt\u001b[0m                         Traceback (most recent call last)",
      "\u001b[0;32m<ipython-input-20-1cb00a70a326>\u001b[0m in \u001b[0;36m<module>\u001b[0;34m()\u001b[0m\n\u001b[1;32m     32\u001b[0m         \u001b[0;34m(\u001b[0m\u001b[0mloss_re\u001b[0m \u001b[0;34m+\u001b[0m \u001b[0mloss_kl\u001b[0m\u001b[0;34m)\u001b[0m\u001b[0;34m.\u001b[0m\u001b[0mbackward\u001b[0m\u001b[0;34m(\u001b[0m\u001b[0;34m)\u001b[0m\u001b[0;34m\u001b[0m\u001b[0;34m\u001b[0m\u001b[0m\n\u001b[1;32m     33\u001b[0m         \u001b[0mvae_optimizer\u001b[0m\u001b[0;34m.\u001b[0m\u001b[0mstep\u001b[0m\u001b[0;34m(\u001b[0m\u001b[0;34m)\u001b[0m\u001b[0;34m\u001b[0m\u001b[0;34m\u001b[0m\u001b[0m\n\u001b[0;32m---> 34\u001b[0;31m         \u001b[0mre_loss\u001b[0m \u001b[0;34m+=\u001b[0m \u001b[0mloss_re\u001b[0m\u001b[0;34m.\u001b[0m\u001b[0mdetach\u001b[0m\u001b[0;34m(\u001b[0m\u001b[0;34m)\u001b[0m\u001b[0;34m.\u001b[0m\u001b[0mitem\u001b[0m\u001b[0;34m(\u001b[0m\u001b[0;34m)\u001b[0m\u001b[0;34m\u001b[0m\u001b[0;34m\u001b[0m\u001b[0m\n\u001b[0m\u001b[1;32m     35\u001b[0m         \u001b[0mkl_loss\u001b[0m \u001b[0;34m+=\u001b[0m \u001b[0mloss_kl\u001b[0m\u001b[0;34m.\u001b[0m\u001b[0mdetach\u001b[0m\u001b[0;34m(\u001b[0m\u001b[0;34m)\u001b[0m\u001b[0;34m.\u001b[0m\u001b[0mitem\u001b[0m\u001b[0;34m(\u001b[0m\u001b[0;34m)\u001b[0m\u001b[0;34m\u001b[0m\u001b[0;34m\u001b[0m\u001b[0m\n\u001b[1;32m     36\u001b[0m \u001b[0;34m\u001b[0m\u001b[0m\n",
      "\u001b[0;31mKeyboardInterrupt\u001b[0m: "
     ]
    }
   ],
   "source": [
    "name='test_mnist_'+time.strftime(\"%m-%d-%Y_%H-%M-%S\")\n",
    "os.makedirs(name, exist_ok=True)\n",
    "recon_dir = os.path.join (name,'results_recon')\n",
    "os.makedirs(recon_dir, exist_ok=True)\n",
    "gen_dir = os.path.join (name,'results_gen')\n",
    "os.makedirs(gen_dir, exist_ok=True)\n",
    "\n",
    "lr = 0.0005\n",
    "vae_optimizer = torch.optim.Adam(vae.parameters(), lr=lr, betas=(0.5, 0.999), weight_decay=1e-5)\n",
    "train_epoch = 50\n",
    "\n",
    "re_loss_arr = []\n",
    "kl_loss_arr = []\n",
    "\n",
    "# for decode testing, batch size of 64\n",
    "sample1 = torch.randn(64, z_size).view(-1, z_size).cuda()\n",
    "beta_iter = BetaSchedulerCyclic(stop=.01, period=1000)\n",
    "\n",
    "for epoch in tqdm(range(train_epoch)):\n",
    "    \n",
    "    re_loss = 0\n",
    "    kl_loss = 0\n",
    "    \n",
    "    for x in train_loader:\n",
    "        x = x[0].cuda()\n",
    "        vae.zero_grad()\n",
    "#         print (x.shape)\n",
    "        recon, mu, logvar = vae(x)\n",
    "#         print (recon.shape)\n",
    "        loss = vae.loss_function(recon, x, mu, logvar, kld_weight=next(beta_iter))\n",
    "        loss_re, loss_kl = loss['reconstruction_loss'], loss['KLD']\n",
    "        (loss_re + loss_kl).backward()\n",
    "        vae_optimizer.step()\n",
    "        re_loss += loss_re.item()\n",
    "        kl_loss += loss_kl.item()\n",
    "\n",
    "    re_loss /= len(train_loader)\n",
    "    kl_loss /= len(train_loader)\n",
    "    print('\\n[%d/%d] recon loss: %.9f, KL loss: %.9f' % (\n",
    "        (epoch + 1), train_epoch, re_loss, kl_loss))\n",
    "    re_loss_arr.append(re_loss)\n",
    "    kl_loss_arr.append(kl_loss)\n",
    "    if epoch % 2 == 0:\n",
    "        with torch.no_grad():\n",
    "            vae.eval()\n",
    "            x_rec, _, _ = vae(x)\n",
    "            resultsample = torch.cat([x, x_rec]) * 0.3081 + 0.1307\n",
    "            resultsample = resultsample.cpu()\n",
    "            save_image(resultsample.view(-1, in_channels, slen*2, slen),\n",
    "                       recon_dir + '/' + str(epoch) + '.png')\n",
    "            x_rec = vae.decode(sample1)\n",
    "            resultsample = x_rec * 0.3081 + 0.1307\n",
    "            resultsample = resultsample.cpu()\n",
    "            save_image(resultsample.view(-1, in_channels, slen, slen),\n",
    "                       gen_dir + '/' + str(epoch) + '.png')\n",
    "        vae.train()\n",
    "        \n",
    "    # checkpoint\n",
    "    torch.save(vae.state_dict(), name + \"/VAEmodel.pkl\")\n",
    "    \n",
    "print(\"Training finish!... save training results\")\n",
    "torch.save(vae.state_dict(), \"VAEmodel.pkl\")\n",
    "        "
   ]
  },
  {
   "cell_type": "markdown",
   "metadata": {},
   "source": [
    "# kl loss with mean, constant kl_weight = .1\n",
    "\n",
    "\n",
    "[1/50] recon loss: 0.325829175, KL loss: 0.057964935\n",
    "\n",
    "[2/50] recon loss: 0.296284202, KL loss: 0.048939405\n",
    "\n",
    "[3/50] recon loss: 0.292565582, KL loss: 0.046701496\n",
    "\n",
    "[4/50] recon loss: 0.290728960, KL loss: 0.045412801\n",
    "\n",
    "\n",
    "# kl loss with sum, constant kl_weight = .1\n",
    "\n",
    "\n",
    "[1/50] recon loss: 0.606855381, KL loss: 0.090462280\n",
    "\n",
    "[2/50] recon loss: 0.593248408, KL loss: 0.017188402\n",
    "\n",
    "[3/50] recon loss: 0.591825014, KL loss: 0.010229738\n",
    "\n",
    "[4/50] recon loss: 0.591900916, KL loss: 0.007903290\n",
    "\n",
    "[5/50] recon loss: 0.591713661, KL loss: 0.006736573\n"
   ]
  },
  {
   "cell_type": "markdown",
   "metadata": {},
   "source": [
    "# ISOnet"
   ]
  },
  {
   "cell_type": "code",
   "execution_count": 1,
   "metadata": {},
   "outputs": [
    {
     "ename": "ModuleNotFoundError",
     "evalue": "No module named 'isonet'",
     "output_type": "error",
     "traceback": [
      "\u001b[0;31m---------------------------------------------------------------------------\u001b[0m",
      "\u001b[0;31mModuleNotFoundError\u001b[0m                       Traceback (most recent call last)",
      "\u001b[0;32m<ipython-input-1-7bb4fd52c4b1>\u001b[0m in \u001b[0;36m<module>\u001b[0;34m()\u001b[0m\n\u001b[0;32m----> 1\u001b[0;31m \u001b[0;32mfrom\u001b[0m \u001b[0mISONet\u001b[0m\u001b[0;34m.\u001b[0m\u001b[0misonet\u001b[0m\u001b[0;34m.\u001b[0m\u001b[0mmodels\u001b[0m \u001b[0;32mimport\u001b[0m \u001b[0;34m*\u001b[0m\u001b[0;34m\u001b[0m\u001b[0;34m\u001b[0m\u001b[0m\n\u001b[0m",
      "\u001b[0;32m~/Documents/semantic-compression/ISONet/isonet/models/__init__.py\u001b[0m in \u001b[0;36m<module>\u001b[0;34m()\u001b[0m\n\u001b[0;32m----> 1\u001b[0;31m \u001b[0;32mfrom\u001b[0m \u001b[0misonet\u001b[0m\u001b[0;34m.\u001b[0m\u001b[0mmodels\u001b[0m\u001b[0;34m.\u001b[0m\u001b[0misonet\u001b[0m \u001b[0;32mimport\u001b[0m \u001b[0;34m*\u001b[0m\u001b[0;34m\u001b[0m\u001b[0;34m\u001b[0m\u001b[0m\n\u001b[0m",
      "\u001b[0;31mModuleNotFoundError\u001b[0m: No module named 'isonet'"
     ]
    }
   ],
   "source": [
    "from ISONet.isonet.models import *"
   ]
  },
  {
   "cell_type": "code",
   "execution_count": null,
   "metadata": {},
   "outputs": [],
   "source": []
  }
 ],
 "metadata": {
  "kernelspec": {
   "display_name": "Python (isonet)",
   "language": "python",
   "name": "isonet"
  },
  "language_info": {
   "codemirror_mode": {
    "name": "ipython",
    "version": 3
   },
   "file_extension": ".py",
   "mimetype": "text/x-python",
   "name": "python",
   "nbconvert_exporter": "python",
   "pygments_lexer": "ipython3",
   "version": "3.6.12"
  }
 },
 "nbformat": 4,
 "nbformat_minor": 4
}
